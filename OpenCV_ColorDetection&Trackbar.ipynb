{
 "cells": [
  {
   "cell_type": "code",
   "execution_count": null,
   "metadata": {},
   "outputs": [],
   "source": [
    "import cv2"
   ]
  },
  {
   "cell_type": "code",
   "execution_count": null,
   "metadata": {},
   "outputs": [],
   "source": [
    "import numpy as np"
   ]
  },
  {
   "cell_type": "code",
   "execution_count": null,
   "metadata": {
    "scrolled": true
   },
   "outputs": [],
   "source": [
    "path = \"C:\\\\Users\\\\Aman sahu\\\\Pictures\\\\Ryuga.jpeg\"\n",
    "\n",
    "def empty(a):\n",
    "    pass\n",
    "\n",
    "cv2.namedWindow(\"TrackBars\")\n",
    "cv2.resizeWindow(\"TrackBars\",640,480)\n",
    "cv2.createTrackbar(\"Hue Min\",\"TrackBars\",11,179,empty)\n",
    "cv2.createTrackbar(\"Hue Max\",\"TrackBars\",27,179,empty)\n",
    "cv2.createTrackbar(\"Sat Min\",\"TrackBars\",170,255,empty)\n",
    "cv2.createTrackbar(\"Sat Max\",\"TrackBars\",255,255,empty)\n",
    "cv2.createTrackbar(\"Val Min\",\"TrackBars\",0,255,empty)\n",
    "cv2.createTrackbar(\"Val Max\",\"TrackBars\",125,255,empty)\n",
    "\n",
    "while True:\n",
    "    h_min = cv2.getTrackbarPos(\"Hue Min\",\"TrackBars\")\n",
    "    h_max = cv2.getTrackbarPos(\"Hue Max\",\"TrackBars\")\n",
    "    s_min = cv2.getTrackbarPos(\"Sat Min\",\"TrackBars\")\n",
    "    s_max = cv2.getTrackbarPos(\"Sat Max\",\"TrackBars\")\n",
    "    v_min = cv2.getTrackbarPos(\"Val Min\",\"TrackBars\")\n",
    "    v_max = cv2.getTrackbarPos(\"Val Max\",\"TrackBars\")\n",
    "    \n",
    "    img = cv2.imread(path)\n",
    "    HSV_image = cv2.cvtColor(img,cv2.COLOR_BGR2HSV)\n",
    "    lower = np.array([h_min,s_min,v_min],np.uint8)\n",
    "    upper = np.array([h_max,s_max,v_max],np.uint8)\n",
    "    mask = cv2.inRange(HSV_image, lower, upper)\n",
    "    Final = cv2.bitwise_and(img,img,mask=mask)\n",
    "    Final = cv2.add(Final,np.array([100.0]))\n",
    "    cv2.imshow(\"Original Image\",img)\n",
    "    cv2.imshow(\"Mask\",mask)\n",
    "    cv2.imshow(\"Final Image\",Final)\n",
    "    if cv2.waitKey(1) & 0xFF == ord('q'):\n",
    "        cv2.destroyAllWindows()\n",
    "        break"
   ]
  }
 ],
 "metadata": {
  "kernelspec": {
   "display_name": "Python 3",
   "language": "python",
   "name": "python3"
  },
  "language_info": {
   "codemirror_mode": {
    "name": "ipython",
    "version": 3
   },
   "file_extension": ".py",
   "mimetype": "text/x-python",
   "name": "python",
   "nbconvert_exporter": "python",
   "pygments_lexer": "ipython3",
   "version": "3.7.3"
  }
 },
 "nbformat": 4,
 "nbformat_minor": 2
}
